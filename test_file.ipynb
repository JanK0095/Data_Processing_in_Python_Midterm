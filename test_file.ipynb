{
 "cells": [
  {
   "cell_type": "code",
   "execution_count": 2,
   "metadata": {},
   "outputs": [
    {
     "name": "stdout",
     "output_type": "stream",
     "text": [
      "ahoj\n",
      "Jak je\n"
     ]
    }
   ],
   "source": [
    "#this is a test file\n",
    "print(\"ahoj\")\n",
    "\n",
    "\n",
    "#this is an update to a test file\n",
    "print(\"Jak je\")"
   ]
  }
 ],
 "metadata": {
  "interpreter": {
   "hash": "5b1791cdb22144ef777d17394d8f1401e1adcb18c0655342db4a2c18a150482b"
  },
  "kernelspec": {
   "display_name": "Python 3.8.8 64-bit ('base': conda)",
   "language": "python",
   "name": "python3"
  },
  "language_info": {
   "codemirror_mode": {
    "name": "ipython",
    "version": 3
   },
   "file_extension": ".py",
   "mimetype": "text/x-python",
   "name": "python",
   "nbconvert_exporter": "python",
   "pygments_lexer": "ipython3",
   "version": "3.8.8"
  },
  "orig_nbformat": 4
 },
 "nbformat": 4,
 "nbformat_minor": 2
}
